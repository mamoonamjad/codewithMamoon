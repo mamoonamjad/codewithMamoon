{
  "cells": [
    {
      "cell_type": "code",
      "execution_count": 1,
      "id": "d76bc1f5-8883-4e98-9bbc-22e69a7af7b6",
      "metadata": {
        "trusted": true
      },
      "outputs": [
        {
          "ename": "ModuleNotFoundError",
          "evalue": "No module named 'pandas'",
          "output_type": "error",
          "traceback": [
            "\u001b[1;31m---------------------------------------------------------------------------\u001b[0m",
            "\u001b[1;31mModuleNotFoundError\u001b[0m                       Traceback (most recent call last)",
            "Cell \u001b[1;32mIn [1], line 1\u001b[0m\n\u001b[1;32m----> 1\u001b[0m \u001b[39mimport\u001b[39;00m \u001b[39mpandas\u001b[39;00m \u001b[39mas\u001b[39;00m \u001b[39mpd\u001b[39;00m\n\u001b[0;32m      2\u001b[0m \u001b[39mimport\u001b[39;00m \u001b[39mnumpy\u001b[39;00m \u001b[39mas\u001b[39;00m \u001b[39mnp\u001b[39;00m\n\u001b[0;32m      3\u001b[0m \u001b[39m##import matplotlib.pyplot as plt\u001b[39;00m\n\u001b[0;32m      4\u001b[0m \u001b[39m##import seaborn as sns\u001b[39;00m\n",
            "\u001b[1;31mModuleNotFoundError\u001b[0m: No module named 'pandas'"
          ]
        }
      ],
      "source": [
        "import pandas as pd\n",
        "import numpy as np\n",
        "##import matplotlib.pyplot as plt\n",
        "##import seaborn as sns"
      ]
    },
    {
      "cell_type": "code",
      "execution_count": null,
      "id": "e4bf5d3d-69cb-4b38-81be-d8609af901b4",
      "metadata": {
        "trusted": true
      },
      "outputs": [],
      "source": [
        "data = pd.read_csv(\"IRIS.csv\")\n",
        "x = data.iloc[:,:-1].values\n",
        "y = data.iloc[:,-1].values"
      ]
    },
    {
      "cell_type": "code",
      "execution_count": null,
      "id": "21666bac-a3cb-4bbd-ad75-d94e73ed54d6",
      "metadata": {
        "trusted": true
      },
      "outputs": [
        {
          "name": "stdout",
          "output_type": "stream",
          "text": [
            "[[5.1 3.5 1.4 0.2]\n",
            " [4.9 3.  1.4 0.2]\n",
            " [4.7 3.2 1.3 0.2]\n",
            " [4.6 3.1 1.5 0.2]\n",
            " [5.  3.6 1.4 0.2]\n",
            " [5.4 3.9 1.7 0.4]\n",
            " [4.6 3.4 1.4 0.3]\n",
            " [5.  3.4 1.5 0.2]\n",
            " [4.4 2.9 1.4 0.2]\n",
            " [4.9 3.1 1.5 0.1]\n",
            " [5.4 3.7 1.5 0.2]\n",
            " [4.8 3.4 1.6 0.2]\n",
            " [4.8 3.  1.4 0.1]\n",
            " [4.3 3.  1.1 0.1]\n",
            " [5.8 4.  1.2 0.2]\n",
            " [5.7 4.4 1.5 0.4]\n",
            " [5.4 3.9 1.3 0.4]\n",
            " [5.1 3.5 1.4 0.3]\n",
            " [5.7 3.8 1.7 0.3]\n",
            " [5.1 3.8 1.5 0.3]\n",
            " [5.4 3.4 1.7 0.2]\n",
            " [5.1 3.7 1.5 0.4]\n",
            " [4.6 3.6 1.  0.2]\n",
            " [5.1 3.3 1.7 0.5]\n",
            " [4.8 3.4 1.9 0.2]\n",
            " [5.  3.  1.6 0.2]\n",
            " [5.  3.4 1.6 0.4]\n",
            " [5.2 3.5 1.5 0.2]\n",
            " [5.2 3.4 1.4 0.2]\n",
            " [4.7 3.2 1.6 0.2]\n",
            " [4.8 3.1 1.6 0.2]\n",
            " [5.4 3.4 1.5 0.4]\n",
            " [5.2 4.1 1.5 0.1]\n",
            " [5.5 4.2 1.4 0.2]\n",
            " [4.9 3.1 1.5 0.1]\n",
            " [5.  3.2 1.2 0.2]\n",
            " [5.5 3.5 1.3 0.2]\n",
            " [4.9 3.1 1.5 0.1]\n",
            " [4.4 3.  1.3 0.2]\n",
            " [5.1 3.4 1.5 0.2]\n",
            " [5.  3.5 1.3 0.3]\n",
            " [4.5 2.3 1.3 0.3]\n",
            " [4.4 3.2 1.3 0.2]\n",
            " [5.  3.5 1.6 0.6]\n",
            " [5.1 3.8 1.9 0.4]\n",
            " [4.8 3.  1.4 0.3]\n",
            " [5.1 3.8 1.6 0.2]\n",
            " [4.6 3.2 1.4 0.2]\n",
            " [5.3 3.7 1.5 0.2]\n",
            " [5.  3.3 1.4 0.2]\n",
            " [7.  3.2 4.7 1.4]\n",
            " [6.4 3.2 4.5 1.5]\n",
            " [6.9 3.1 4.9 1.5]\n",
            " [5.5 2.3 4.  1.3]\n",
            " [6.5 2.8 4.6 1.5]\n",
            " [5.7 2.8 4.5 1.3]\n",
            " [6.3 3.3 4.7 1.6]\n",
            " [4.9 2.4 3.3 1. ]\n",
            " [6.6 2.9 4.6 1.3]\n",
            " [5.2 2.7 3.9 1.4]\n",
            " [5.  2.  3.5 1. ]\n",
            " [5.9 3.  4.2 1.5]\n",
            " [6.  2.2 4.  1. ]\n",
            " [6.1 2.9 4.7 1.4]\n",
            " [5.6 2.9 3.6 1.3]\n",
            " [6.7 3.1 4.4 1.4]\n",
            " [5.6 3.  4.5 1.5]\n",
            " [5.8 2.7 4.1 1. ]\n",
            " [6.2 2.2 4.5 1.5]\n",
            " [5.6 2.5 3.9 1.1]\n",
            " [5.9 3.2 4.8 1.8]\n",
            " [6.1 2.8 4.  1.3]\n",
            " [6.3 2.5 4.9 1.5]\n",
            " [6.1 2.8 4.7 1.2]\n",
            " [6.4 2.9 4.3 1.3]\n",
            " [6.6 3.  4.4 1.4]\n",
            " [6.8 2.8 4.8 1.4]\n",
            " [6.7 3.  5.  1.7]\n",
            " [6.  2.9 4.5 1.5]\n",
            " [5.7 2.6 3.5 1. ]\n",
            " [5.5 2.4 3.8 1.1]\n",
            " [5.5 2.4 3.7 1. ]\n",
            " [5.8 2.7 3.9 1.2]\n",
            " [6.  2.7 5.1 1.6]\n",
            " [5.4 3.  4.5 1.5]\n",
            " [6.  3.4 4.5 1.6]\n",
            " [6.7 3.1 4.7 1.5]\n",
            " [6.3 2.3 4.4 1.3]\n",
            " [5.6 3.  4.1 1.3]\n",
            " [5.5 2.5 4.  1.3]\n",
            " [5.5 2.6 4.4 1.2]\n",
            " [6.1 3.  4.6 1.4]\n",
            " [5.8 2.6 4.  1.2]\n",
            " [5.  2.3 3.3 1. ]\n",
            " [5.6 2.7 4.2 1.3]\n",
            " [5.7 3.  4.2 1.2]\n",
            " [5.7 2.9 4.2 1.3]\n",
            " [6.2 2.9 4.3 1.3]\n",
            " [5.1 2.5 3.  1.1]\n",
            " [5.7 2.8 4.1 1.3]\n",
            " [6.3 3.3 6.  2.5]\n",
            " [5.8 2.7 5.1 1.9]\n",
            " [7.1 3.  5.9 2.1]\n",
            " [6.3 2.9 5.6 1.8]\n",
            " [6.5 3.  5.8 2.2]\n",
            " [7.6 3.  6.6 2.1]\n",
            " [4.9 2.5 4.5 1.7]\n",
            " [7.3 2.9 6.3 1.8]\n",
            " [6.7 2.5 5.8 1.8]\n",
            " [7.2 3.6 6.1 2.5]\n",
            " [6.5 3.2 5.1 2. ]\n",
            " [6.4 2.7 5.3 1.9]\n",
            " [6.8 3.  5.5 2.1]\n",
            " [5.7 2.5 5.  2. ]\n",
            " [5.8 2.8 5.1 2.4]\n",
            " [6.4 3.2 5.3 2.3]\n",
            " [6.5 3.  5.5 1.8]\n",
            " [7.7 3.8 6.7 2.2]\n",
            " [7.7 2.6 6.9 2.3]\n",
            " [6.  2.2 5.  1.5]\n",
            " [6.9 3.2 5.7 2.3]\n",
            " [5.6 2.8 4.9 2. ]\n",
            " [7.7 2.8 6.7 2. ]\n",
            " [6.3 2.7 4.9 1.8]\n",
            " [6.7 3.3 5.7 2.1]\n",
            " [7.2 3.2 6.  1.8]\n",
            " [6.2 2.8 4.8 1.8]\n",
            " [6.1 3.  4.9 1.8]\n",
            " [6.4 2.8 5.6 2.1]\n",
            " [7.2 3.  5.8 1.6]\n",
            " [7.4 2.8 6.1 1.9]\n",
            " [7.9 3.8 6.4 2. ]\n",
            " [6.4 2.8 5.6 2.2]\n",
            " [6.3 2.8 5.1 1.5]\n",
            " [6.1 2.6 5.6 1.4]\n",
            " [7.7 3.  6.1 2.3]\n",
            " [6.3 3.4 5.6 2.4]\n",
            " [6.4 3.1 5.5 1.8]\n",
            " [6.  3.  4.8 1.8]\n",
            " [6.9 3.1 5.4 2.1]\n",
            " [6.7 3.1 5.6 2.4]\n",
            " [6.9 3.1 5.1 2.3]\n",
            " [5.8 2.7 5.1 1.9]\n",
            " [6.8 3.2 5.9 2.3]\n",
            " [6.7 3.3 5.7 2.5]\n",
            " [6.7 3.  5.2 2.3]\n",
            " [6.3 2.5 5.  1.9]\n",
            " [6.5 3.  5.2 2. ]\n",
            " [6.2 3.4 5.4 2.3]\n",
            " [5.9 3.  5.1 1.8]]\n"
          ]
        }
      ],
      "source": [
        "print(x)\n"
      ]
    },
    {
      "cell_type": "code",
      "execution_count": null,
      "id": "a76cb47d-38b8-410c-983d-db6e07c064a5",
      "metadata": {
        "trusted": true
      },
      "outputs": [
        {
          "data": {
            "text/plain": [
              "150"
            ]
          },
          "execution_count": 4,
          "metadata": {},
          "output_type": "execute_result"
        }
      ],
      "source": [
        "len(x)\n"
      ]
    },
    {
      "cell_type": "code",
      "execution_count": null,
      "id": "a127d3fe-be4c-48aa-9b99-9a4c4b84111e",
      "metadata": {
        "trusted": true
      },
      "outputs": [
        {
          "name": "stdout",
          "output_type": "stream",
          "text": [
            "['setosa' 'setosa' 'setosa' 'setosa' 'setosa' 'setosa' 'setosa' 'setosa'\n",
            " 'setosa' 'setosa' 'setosa' 'setosa' 'setosa' 'setosa' 'setosa' 'setosa'\n",
            " 'setosa' 'setosa' 'setosa' 'setosa' 'setosa' 'setosa' 'setosa' 'setosa'\n",
            " 'setosa' 'setosa' 'setosa' 'setosa' 'setosa' 'setosa' 'setosa' 'setosa'\n",
            " 'setosa' 'setosa' 'setosa' 'setosa' 'setosa' 'setosa' 'setosa' 'setosa'\n",
            " 'setosa' 'setosa' 'setosa' 'setosa' 'setosa' 'setosa' 'setosa' 'setosa'\n",
            " 'setosa' 'setosa' 'versicolor' 'versicolor' 'versicolor' 'versicolor'\n",
            " 'versicolor' 'versicolor' 'versicolor' 'versicolor' 'versicolor'\n",
            " 'versicolor' 'versicolor' 'versicolor' 'versicolor' 'versicolor'\n",
            " 'versicolor' 'versicolor' 'versicolor' 'versicolor' 'versicolor'\n",
            " 'versicolor' 'versicolor' 'versicolor' 'versicolor' 'versicolor'\n",
            " 'versicolor' 'versicolor' 'versicolor' 'versicolor' 'versicolor'\n",
            " 'versicolor' 'versicolor' 'versicolor' 'versicolor' 'versicolor'\n",
            " 'versicolor' 'versicolor' 'versicolor' 'versicolor' 'versicolor'\n",
            " 'versicolor' 'versicolor' 'versicolor' 'versicolor' 'versicolor'\n",
            " 'versicolor' 'versicolor' 'versicolor' 'versicolor' 'versicolor'\n",
            " 'versicolor' 'virginica' 'virginica' 'virginica' 'virginica' 'virginica'\n",
            " 'virginica' 'virginica' 'virginica' 'virginica' 'virginica' 'virginica'\n",
            " 'virginica' 'virginica' 'virginica' 'virginica' 'virginica' 'virginica'\n",
            " 'virginica' 'virginica' 'virginica' 'virginica' 'virginica' 'virginica'\n",
            " 'virginica' 'virginica' 'virginica' 'virginica' 'virginica' 'virginica'\n",
            " 'virginica' 'virginica' 'virginica' 'virginica' 'virginica' 'virginica'\n",
            " 'virginica' 'virginica' 'virginica' 'virginica' 'virginica' 'virginica'\n",
            " 'virginica' 'virginica' 'virginica' 'virginica' 'virginica' 'virginica'\n",
            " 'virginica' 'virginica' 'virginica']\n"
          ]
        }
      ],
      "source": [
        "print(y)\n"
      ]
    },
    {
      "cell_type": "code",
      "execution_count": null,
      "id": "d2f48cb4-9ce3-493a-a06e-3138d460c73f",
      "metadata": {
        "trusted": true
      },
      "outputs": [
        {
          "data": {
            "text/plain": [
              "150"
            ]
          },
          "execution_count": 6,
          "metadata": {},
          "output_type": "execute_result"
        }
      ],
      "source": [
        "len(y)\n"
      ]
    },
    {
      "cell_type": "code",
      "execution_count": null,
      "id": "5911c04d-86f8-4352-a970-5492ebed306e",
      "metadata": {
        "trusted": true
      },
      "outputs": [],
      "source": [
        "from sklearn.model_selection import train_test_split\n",
        "x_train,x_test, y_train, y_test= train_test_split(x , y, test_size =0.2 , random_state=21)\n"
      ]
    },
    {
      "cell_type": "code",
      "execution_count": null,
      "id": "c252b7cf-411f-4a03-a32b-2f9124ffa44c",
      "metadata": {
        "trusted": true
      },
      "outputs": [
        {
          "name": "stdout",
          "output_type": "stream",
          "text": [
            "[[4.5 2.3 1.3 0.3]\n",
            " [7.9 3.8 6.4 2. ]\n",
            " [5.9 3.2 4.8 1.8]\n",
            " [5.1 3.8 1.6 0.2]\n",
            " [6.2 2.8 4.8 1.8]\n",
            " [6.5 2.8 4.6 1.5]\n",
            " [6.  3.4 4.5 1.6]\n",
            " [5.8 2.8 5.1 2.4]\n",
            " [4.4 3.  1.3 0.2]\n",
            " [5.8 2.7 5.1 1.9]\n",
            " [5.9 3.  5.1 1.8]\n",
            " [6.3 3.4 5.6 2.4]\n",
            " [5.7 2.5 5.  2. ]\n",
            " [6.2 2.9 4.3 1.3]\n",
            " [6.9 3.1 5.1 2.3]\n",
            " [5.5 3.5 1.3 0.2]\n",
            " [4.9 3.1 1.5 0.1]\n",
            " [4.3 3.  1.1 0.1]\n",
            " [6.2 2.2 4.5 1.5]\n",
            " [4.8 3.4 1.6 0.2]\n",
            " [6.9 3.1 4.9 1.5]\n",
            " [5.  3.3 1.4 0.2]\n",
            " [6.7 3.1 4.4 1.4]\n",
            " [7.7 2.6 6.9 2.3]\n",
            " [5.7 2.8 4.5 1.3]\n",
            " [5.8 2.7 4.1 1. ]\n",
            " [4.6 3.1 1.5 0.2]\n",
            " [5.1 3.5 1.4 0.3]\n",
            " [7.7 3.  6.1 2.3]\n",
            " [4.7 3.2 1.6 0.2]\n",
            " [5.4 3.7 1.5 0.2]\n",
            " [4.6 3.6 1.  0.2]\n",
            " [4.7 3.2 1.3 0.2]\n",
            " [5.4 3.4 1.5 0.4]\n",
            " [5.7 2.9 4.2 1.3]\n",
            " [5.5 2.5 4.  1.3]\n",
            " [5.2 3.5 1.5 0.2]\n",
            " [6.7 2.5 5.8 1.8]\n",
            " [6.4 3.2 4.5 1.5]\n",
            " [4.9 3.  1.4 0.2]\n",
            " [5.4 3.9 1.3 0.4]\n",
            " [4.9 2.5 4.5 1.7]\n",
            " [6.7 3.1 4.7 1.5]\n",
            " [4.9 3.1 1.5 0.1]\n",
            " [6.5 3.  5.8 2.2]\n",
            " [5.  2.3 3.3 1. ]\n",
            " [6.1 2.6 5.6 1.4]\n",
            " [5.  3.5 1.6 0.6]\n",
            " [6.4 2.7 5.3 1.9]\n",
            " [5.1 3.4 1.5 0.2]\n",
            " [4.6 3.2 1.4 0.2]\n",
            " [6.  2.9 4.5 1.5]\n",
            " [6.5 3.  5.5 1.8]\n",
            " [5.6 2.9 3.6 1.3]\n",
            " [5.6 2.7 4.2 1.3]\n",
            " [4.8 3.4 1.9 0.2]\n",
            " [6.4 2.8 5.6 2.2]\n",
            " [6.6 2.9 4.6 1.3]\n",
            " [4.4 2.9 1.4 0.2]\n",
            " [6.1 3.  4.9 1.8]\n",
            " [6.1 2.8 4.  1.3]\n",
            " [5.6 3.  4.5 1.5]\n",
            " [7.4 2.8 6.1 1.9]\n",
            " [5.7 2.6 3.5 1. ]\n",
            " [7.6 3.  6.6 2.1]\n",
            " [6.1 2.9 4.7 1.4]\n",
            " [6.7 3.3 5.7 2.5]\n",
            " [6.4 3.2 5.3 2.3]\n",
            " [5.2 4.1 1.5 0.1]\n",
            " [5.  3.  1.6 0.2]\n",
            " [6.3 2.9 5.6 1.8]\n",
            " [7.1 3.  5.9 2.1]\n",
            " [4.8 3.1 1.6 0.2]\n",
            " [6.8 2.8 4.8 1.4]\n",
            " [6.2 3.4 5.4 2.3]\n",
            " [5.7 2.8 4.1 1.3]\n",
            " [4.9 2.4 3.3 1. ]\n",
            " [7.3 2.9 6.3 1.8]\n",
            " [5.6 2.5 3.9 1.1]\n",
            " [7.2 3.  5.8 1.6]\n",
            " [5.1 3.5 1.4 0.2]\n",
            " [7.2 3.6 6.1 2.5]\n",
            " [6.4 2.8 5.6 2.1]\n",
            " [4.9 3.1 1.5 0.1]\n",
            " [5.2 3.4 1.4 0.2]\n",
            " [5.5 2.6 4.4 1.2]\n",
            " [6.4 3.1 5.5 1.8]\n",
            " [4.6 3.4 1.4 0.3]\n",
            " [5.7 4.4 1.5 0.4]\n",
            " [5.8 2.7 3.9 1.2]\n",
            " [7.2 3.2 6.  1.8]\n",
            " [4.8 3.  1.4 0.1]\n",
            " [5.5 4.2 1.4 0.2]\n",
            " [6.1 3.  4.6 1.4]\n",
            " [6.7 3.  5.2 2.3]\n",
            " [6.3 2.5 5.  1.9]\n",
            " [5.  3.2 1.2 0.2]\n",
            " [6.7 3.1 5.6 2.4]\n",
            " [5.5 2.4 3.8 1.1]\n",
            " [5.4 3.9 1.7 0.4]\n",
            " [5.5 2.3 4.  1.3]\n",
            " [6.9 3.1 5.4 2.1]\n",
            " [7.  3.2 4.7 1.4]\n",
            " [5.7 3.8 1.7 0.3]\n",
            " [6.3 2.8 5.1 1.5]\n",
            " [6.  2.2 5.  1.5]\n",
            " [5.2 2.7 3.9 1.4]\n",
            " [5.4 3.  4.5 1.5]\n",
            " [6.3 3.3 6.  2.5]\n",
            " [6.5 3.  5.2 2. ]\n",
            " [7.7 2.8 6.7 2. ]\n",
            " [5.9 3.  4.2 1.5]\n",
            " [6.5 3.2 5.1 2. ]\n",
            " [6.3 2.5 4.9 1.5]\n",
            " [5.1 2.5 3.  1.1]\n",
            " [6.9 3.2 5.7 2.3]\n",
            " [6.8 3.  5.5 2.1]\n",
            " [5.3 3.7 1.5 0.2]\n",
            " [5.  3.6 1.4 0.2]\n",
            " [6.3 3.3 4.7 1.6]]\n"
          ]
        }
      ],
      "source": [
        "print(x_train)\n"
      ]
    },
    {
      "cell_type": "code",
      "execution_count": null,
      "id": "461d87d6-2bf6-466a-a629-1a8e16cb2387",
      "metadata": {
        "trusted": true
      },
      "outputs": [
        {
          "data": {
            "text/plain": [
              "120"
            ]
          },
          "execution_count": 9,
          "metadata": {},
          "output_type": "execute_result"
        }
      ],
      "source": [
        "len(x_train)\n"
      ]
    },
    {
      "cell_type": "code",
      "execution_count": null,
      "id": "62ca3135",
      "metadata": {},
      "outputs": [
        {
          "name": "stdout",
          "output_type": "stream",
          "text": [
            "[[5.8 2.6 4.  1.2]\n",
            " [5.1 3.8 1.9 0.4]\n",
            " [5.  3.4 1.5 0.2]\n",
            " [5.1 3.7 1.5 0.4]\n",
            " [5.7 3.  4.2 1.2]\n",
            " [6.6 3.  4.4 1.4]\n",
            " [5.4 3.4 1.7 0.2]\n",
            " [5.6 2.8 4.9 2. ]\n",
            " [5.  3.4 1.6 0.4]\n",
            " [5.1 3.8 1.5 0.3]\n",
            " [5.5 2.4 3.7 1. ]\n",
            " [5.6 3.  4.1 1.3]\n",
            " [6.8 3.2 5.9 2.3]\n",
            " [7.7 3.8 6.7 2.2]\n",
            " [5.1 3.3 1.7 0.5]\n",
            " [6.7 3.  5.  1.7]\n",
            " [6.  3.  4.8 1.8]\n",
            " [6.1 2.8 4.7 1.2]\n",
            " [5.8 4.  1.2 0.2]\n",
            " [5.8 2.7 5.1 1.9]\n",
            " [6.3 2.7 4.9 1.8]\n",
            " [6.  2.2 4.  1. ]\n",
            " [6.  2.7 5.1 1.6]\n",
            " [6.4 2.9 4.3 1.3]\n",
            " [4.4 3.2 1.3 0.2]\n",
            " [5.  2.  3.5 1. ]\n",
            " [5.  3.5 1.3 0.3]\n",
            " [4.8 3.  1.4 0.3]\n",
            " [6.3 2.3 4.4 1.3]\n",
            " [6.7 3.3 5.7 2.1]]\n"
          ]
        }
      ],
      "source": [
        "print(x_test)\n"
      ]
    },
    {
      "cell_type": "code",
      "execution_count": null,
      "id": "b0a30395",
      "metadata": {},
      "outputs": [
        {
          "name": "stdout",
          "output_type": "stream",
          "text": [
            "['versicolor' 'setosa' 'setosa' 'setosa' 'versicolor' 'versicolor'\n",
            " 'setosa' 'virginica' 'setosa' 'setosa' 'versicolor' 'versicolor'\n",
            " 'virginica' 'virginica' 'setosa' 'versicolor' 'virginica' 'versicolor'\n",
            " 'setosa' 'virginica' 'virginica' 'versicolor' 'versicolor' 'versicolor'\n",
            " 'setosa' 'versicolor' 'setosa' 'setosa' 'versicolor' 'virginica']\n"
          ]
        }
      ],
      "source": [
        "print(y_test)\n"
      ]
    },
    {
      "cell_type": "code",
      "execution_count": null,
      "id": "351cab77-5c27-4e1c-8188-040793e1c61f",
      "metadata": {
        "trusted": true
      },
      "outputs": [
        {
          "name": "stdout",
          "output_type": "stream",
          "text": [
            "['versicolor' 'setosa' 'setosa' 'setosa' 'versicolor' 'versicolor'\n",
            " 'setosa' 'virginica' 'setosa' 'setosa' 'versicolor' 'versicolor'\n",
            " 'virginica' 'virginica' 'setosa' 'virginica' 'virginica' 'versicolor'\n",
            " 'setosa' 'virginica' 'virginica' 'versicolor' 'virginica' 'versicolor'\n",
            " 'setosa' 'versicolor' 'setosa' 'setosa' 'versicolor' 'virginica']\n"
          ]
        }
      ],
      "source": [
        "from sklearn.ensemble import RandomForestClassifier\n",
        "rfc= RandomForestClassifier(n_estimators=100)\n",
        "\n",
        "rfc.fit(x_train, y_train)\n",
        "y_pred= rfc.predict(x_test)\n",
        "print(y_pred)"
      ]
    },
    {
      "cell_type": "code",
      "execution_count": null,
      "id": "cef473af-aa12-454e-bee7-ff26a8869be8",
      "metadata": {
        "trusted": true
      },
      "outputs": [
        {
          "name": "stdout",
          "output_type": "stream",
          "text": [
            "Accuracy of the Classifier is: 93.33333333333333\n"
          ]
        }
      ],
      "source": [
        "from sklearn import metrics\n",
        "print('Accuracy of the Classifier is:' ,metrics.accuracy_score(y_test, y_pred)*100)"
      ]
    },
    {
      "cell_type": "code",
      "execution_count": null,
      "id": "bb6cbb03-93ec-4120-91fc-4370c4f553d2",
      "metadata": {
        "trusted": true
      },
      "outputs": [
        {
          "name": "stdout",
          "output_type": "stream",
          "text": [
            "0.14s elapsed during training\n"
          ]
        }
      ],
      "source": [
        "import time\n",
        "start_time = time.time()\n",
        "rfc.fit(x_train, y_train)\n",
        "elapsed_time = time.time() - start_time\n",
        "print(f'{elapsed_time:.2f}s elapsed during training')"
      ]
    },
    {
      "cell_type": "code",
      "execution_count": null,
      "id": "0fef56ec-6726-40e7-9f34-c33b6615375d",
      "metadata": {
        "trusted": true
      },
      "outputs": [
        {
          "name": "stdout",
          "output_type": "stream",
          "text": [
            " 0.19s elapsed during testing\n"
          ]
        }
      ],
      "source": [
        "stat_time = time.time()\n",
        "y_pred= rfc.predict(x_test)\n",
        "elapsed_time= time.time() - start_time\n",
        "print(f' {elapsed_time:.2f}s elapsed during testing')"
      ]
    }
  ],
  "metadata": {
    "kernelspec": {
      "display_name": "Python 3.10.8 64-bit (microsoft store)",
      "language": "python",
      "name": "python3"
    },
    "language_info": {
      "codemirror_mode": {
        "name": "ipython",
        "version": 3
      },
      "file_extension": ".py",
      "mimetype": "text/x-python",
      "name": "python",
      "nbconvert_exporter": "python",
      "pygments_lexer": "ipython3",
      "version": "3.10.8"
    },
    "vscode": {
      "interpreter": {
        "hash": "7d51c5ca751f8d48dd3445a7a93b820be404b8ed7c56316ea6d019fb44c2bc18"
      }
    }
  },
  "nbformat": 4,
  "nbformat_minor": 5
}
